{
 "cells": [
  {
   "cell_type": "markdown",
   "id": "d3f464cb",
   "metadata": {},
   "source": [
    "# Numpy liste i matrice"
   ]
  },
  {
   "cell_type": "markdown",
   "id": "8c5d8bc8",
   "metadata": {},
   "source": [
    "### Autor: Milos Todorov"
   ]
  },
  {
   "cell_type": "markdown",
   "id": "d7c699a7",
   "metadata": {},
   "source": [
    "## Python Liste - kratki osvrt"
   ]
  },
  {
   "cell_type": "markdown",
   "id": "efba07ce",
   "metadata": {},
   "source": [
    "### Formiranje liste u Pythonu"
   ]
  },
  {
   "cell_type": "code",
   "execution_count": 1,
   "id": "f38020e4",
   "metadata": {},
   "outputs": [
    {
     "name": "stdout",
     "output_type": "stream",
     "text": [
      "['a', 'b', 'c', ['e', 'm'], 'd', 'f', 5, 6, 10, 11.5]\n"
     ]
    }
   ],
   "source": [
    "listaElemenata = ['a','b','c',['e','m'],'d','f',5,6,10,11.5]\n",
    "print(listaElemenata)"
   ]
  },
  {
   "cell_type": "markdown",
   "id": "313cd472",
   "metadata": {},
   "source": [
    "### Pristupanje elementima liste pomocu indeksa"
   ]
  },
  {
   "cell_type": "code",
   "execution_count": 2,
   "id": "cd88f88d",
   "metadata": {},
   "outputs": [
    {
     "data": {
      "text/plain": [
       "'m'"
      ]
     },
     "execution_count": 2,
     "metadata": {},
     "output_type": "execute_result"
    }
   ],
   "source": [
    "listaElemenata[3][1]"
   ]
  },
  {
   "cell_type": "markdown",
   "id": "a2a7a08c",
   "metadata": {},
   "source": [
    "### Dodavanje Elementa na kraju liste"
   ]
  },
  {
   "cell_type": "code",
   "execution_count": 3,
   "id": "f4390232",
   "metadata": {},
   "outputs": [
    {
     "name": "stdout",
     "output_type": "stream",
     "text": [
      "['a', 'b', 'c', ['e', 'm'], 'd', 'f', 5, 6, 10, 11.5, 'DodatiElement']\n"
     ]
    }
   ],
   "source": [
    "listaElemenata.append('DodatiElement')\n",
    "print(listaElemenata)"
   ]
  },
  {
   "cell_type": "markdown",
   "id": "7dd72502",
   "metadata": {},
   "source": [
    "## Kreiranje listi pomocu Numpy biblioteke"
   ]
  },
  {
   "cell_type": "code",
   "execution_count": 4,
   "id": "12a5f18f",
   "metadata": {},
   "outputs": [
    {
     "name": "stdout",
     "output_type": "stream",
     "text": [
      "Lista L1: \n",
      " [1 1]\n",
      "Lista L2: \n",
      " [[3 2 1]\n",
      " [7 8 9]]\n",
      "Lista L3: \n",
      " [[3.5 2.  1. ]\n",
      " [7.5 8.  9.1]]\n",
      "Lista L4: \n",
      " [3.+7.j 2.+8.j 1.+9.j]\n"
     ]
    }
   ],
   "source": [
    "import numpy as np\n",
    "L1 = np.array([1, 1])# jednodimenzionalna lista\n",
    "print('Lista L1: \\n',L1)\n",
    "\n",
    "L2 = np.array([[3, 2, 1], [7, 8, 9]]) # Dvodimenzionalna lista sa integerima\n",
    "print('Lista L2: \\n',L2)\n",
    "\n",
    "L3 = np.array([[3.5, 2, 1.0], [7.5, 8, 9.1]]) # Dvodimenzionalna lista sa realnim brojevima\n",
    "print('Lista L3: \\n',L3)\n",
    "\n",
    "L4 = np.array([3+7j, 2+8j, 1+9j], dtype = complex) # Jednodimenzionalna lista sa kompleksnim brojevima\n",
    "print('Lista L4: \\n',L4)"
   ]
  },
  {
   "cell_type": "markdown",
   "id": "d12b8ea8",
   "metadata": {},
   "source": [
    "### Drugi način kreiranja Numpy listi"
   ]
  },
  {
   "cell_type": "code",
   "execution_count": 5,
   "id": "10a02aba",
   "metadata": {},
   "outputs": [
    {
     "name": "stdout",
     "output_type": "stream",
     "text": [
      "Lista L5: \n",
      " [1 2 3 4 5]\n",
      "Lista L6: \n",
      " [1. 1. 1. 1. 1.]\n",
      "Lista L7: \n",
      " [0. 0. 0. 0. 0.]\n",
      "Lista L8: \n",
      " [0. 1. 2. 3. 4. 5.]\n",
      "Lista L9: \n",
      " [-0.86663805 -0.46654499 -1.13020724  0.87750152  1.28575075]\n",
      "Lista L10: \n",
      " [1 8 7 5 3]\n"
     ]
    }
   ],
   "source": [
    "\n",
    "L5 = np.arange(1,6) # kreiranje jednodimenzionalne liste integera od 1 do 5\n",
    "#Ovde lista mora da ide do 6, jer indeksi u Python idu do nekog broja, ali ne obuhvataju i sam broj\n",
    "print('Lista L5: \\n',L5)\n",
    "\n",
    "L6 = np.ones(5) #kreiranje liste gde su svi elementi jedinice\n",
    "print('Lista L6: \\n',L6)\n",
    "\n",
    "L7 = np.zeros(5) #kreiranje liste gde su svi elementi nule\n",
    "print('Lista L7: \\n',L7)\n",
    "\n",
    "L8 = np.linspace(0,5,6) # Kreiranje liste brojeva sa jednakim intervalima\n",
    "print('Lista L8: \\n',L8)\n",
    "\n",
    "L9 = np.random.randn(5) # kreiranje liste brojeva sa normalnom raspodelom\n",
    "print('Lista L9: \\n',L9)\n",
    "\n",
    "L10 = np.random.randint(1,10,5) # kreiranje liste brojeva sa slučajnim brojevima\n",
    "print('Lista L10: \\n',L10)"
   ]
  },
  {
   "cell_type": "markdown",
   "id": "ea7d5f47",
   "metadata": {},
   "source": [
    "## Kreiranje matrica pomocu Numpy biblioteke"
   ]
  },
  {
   "cell_type": "markdown",
   "id": "c5508a65",
   "metadata": {},
   "source": [
    "### Kreiranje matrice korišćenjem naredbe array"
   ]
  },
  {
   "cell_type": "code",
   "execution_count": 6,
   "id": "943676ce",
   "metadata": {},
   "outputs": [
    {
     "name": "stdout",
     "output_type": "stream",
     "text": [
      "Matrica M1: \n",
      " [[1 2 3]\n",
      " [4 5 6]\n",
      " [7 8 9]]\n"
     ]
    }
   ],
   "source": [
    "import numpy as np\n",
    "M1 = np.array([[1, 2, 3], [4, 5, 6], [7, 8, 9]]) # Kreiranje matrice koriscenjem naredbe array\n",
    "print('Matrica M1: \\n',M1)"
   ]
  },
  {
   "cell_type": "markdown",
   "id": "0afc6780",
   "metadata": {},
   "source": [
    "### Kreiranje matrice korišćenjem naredbe reshape"
   ]
  },
  {
   "cell_type": "code",
   "execution_count": 7,
   "id": "5316cd00",
   "metadata": {},
   "outputs": [
    {
     "name": "stdout",
     "output_type": "stream",
     "text": [
      "Matrica M2: \n",
      " [[1 2 3]\n",
      " [4 5 6]\n",
      " [7 8 9]]\n"
     ]
    }
   ],
   "source": [
    "import numpy as np\n",
    "M2 = np.arange(1,10).reshape(3,3) # Kreiranje matrice korscenjem naredbe reshape\n",
    "print('Matrica M2: \\n',M2)"
   ]
  },
  {
   "cell_type": "markdown",
   "id": "495a483b",
   "metadata": {},
   "source": [
    "### Kreiranje matrice spajanjem dve iste liste L1"
   ]
  },
  {
   "cell_type": "code",
   "execution_count": 8,
   "id": "a2b122ef",
   "metadata": {},
   "outputs": [
    {
     "name": "stdout",
     "output_type": "stream",
     "text": [
      "Matrica M3: \n",
      " [[1 1]\n",
      " [1 1]]\n"
     ]
    }
   ],
   "source": [
    "import numpy as np\n",
    "M3 = np.array([L1,L1]) #Kreiranje matrice, spajanjem dve iste NumPy liste\n",
    "print('Matrica M3: \\n',M3)"
   ]
  },
  {
   "cell_type": "markdown",
   "id": "b80d40f0",
   "metadata": {},
   "source": [
    "### Kreiranje matrice spajanjem dve različite Python liste"
   ]
  },
  {
   "cell_type": "code",
   "execution_count": 9,
   "id": "b9f89523",
   "metadata": {},
   "outputs": [
    {
     "name": "stdout",
     "output_type": "stream",
     "text": [
      "Matrica M4: \n",
      " [[1.  2.5 3. ]\n",
      " [4.  5.  6. ]]\n"
     ]
    }
   ],
   "source": [
    "import numpy as np\n",
    "P1 = [1, 2.5, 3]\n",
    "P2 = [4, 5, 6]\n",
    "M4 = np.array([P1,P2]) #Kreiranje matrice, spajanjem dve različite Python liste\n",
    "print('Matrica M4: \\n',M4)"
   ]
  },
  {
   "cell_type": "markdown",
   "id": "7c3b5b12",
   "metadata": {},
   "source": [
    "### Kreiranje matrice korišćenjem naredbe matrix"
   ]
  },
  {
   "cell_type": "code",
   "execution_count": 10,
   "id": "6d2a30a2",
   "metadata": {},
   "outputs": [
    {
     "name": "stdout",
     "output_type": "stream",
     "text": [
      "Matrica M5: \n",
      " [[1 2 3]\n",
      " [4 5 6]\n",
      " [7 8 9]]\n"
     ]
    }
   ],
   "source": [
    "import numpy as np\n",
    "M5 = np.matrix([[1, 2, 3], [4, 5, 6], [7, 8, 9]]) # Kreiranje matrice koriscenjem naredbe matrix\n",
    "print('Matrica M5: \\n',M5)"
   ]
  },
  {
   "cell_type": "markdown",
   "id": "6cc1797f",
   "metadata": {},
   "source": [
    "### Formira se nova lista, ne matrica, pomocu dve liste L1"
   ]
  },
  {
   "cell_type": "code",
   "execution_count": 11,
   "id": "4cafe629",
   "metadata": {},
   "outputs": [
    {
     "name": "stdout",
     "output_type": "stream",
     "text": [
      "[array([1, 1]), array([1, 1])]\n"
     ]
    }
   ],
   "source": [
    "import numpy as np\n",
    "L1 = np.array([1,1])# Dobija se dupla ista lista u okviru liste\n",
    "DuplaLista=[L1,L1]\n",
    "print(DuplaLista)"
   ]
  },
  {
   "cell_type": "markdown",
   "id": "079485bb",
   "metadata": {},
   "source": [
    "### Ako se prvom elementu promeni vrednost na nulu, promenice se u obe liste"
   ]
  },
  {
   "cell_type": "code",
   "execution_count": 12,
   "id": "f14eb858",
   "metadata": {},
   "outputs": [
    {
     "name": "stdout",
     "output_type": "stream",
     "text": [
      "[array([0, 1]), array([0, 1])]\n"
     ]
    }
   ],
   "source": [
    "DuplaLista[0][0]=0\n",
    "print(DuplaLista)"
   ]
  },
  {
   "cell_type": "markdown",
   "id": "3a95829f",
   "metadata": {},
   "source": [
    "### Neka je data matrica sastavljena od dve spojene liste. Ako se zada ista promena vrednosti na nulu, tada se samo prvi elemenat matrice manja na nulu"
   ]
  },
  {
   "cell_type": "code",
   "execution_count": 13,
   "id": "64b2635d",
   "metadata": {},
   "outputs": [
    {
     "name": "stdout",
     "output_type": "stream",
     "text": [
      "Matrica M3 sa izmenjenim prvim elementom: \n",
      " [[0 1]\n",
      " [1 1]]\n"
     ]
    }
   ],
   "source": [
    "M3[0][0]=0\n",
    "print('Matrica M3 sa izmenjenim prvim elementom: \\n',M3)"
   ]
  },
  {
   "cell_type": "markdown",
   "id": "cc681f5c",
   "metadata": {},
   "source": [
    "## Operacije sa matricama korišćenjem NumPy biblioteke"
   ]
  },
  {
   "cell_type": "markdown",
   "id": "cdfe429e",
   "metadata": {},
   "source": [
    "### Sabiranje matrica"
   ]
  },
  {
   "cell_type": "code",
   "execution_count": 14,
   "id": "26ae54e5",
   "metadata": {},
   "outputs": [
    {
     "name": "stdout",
     "output_type": "stream",
     "text": [
      "Zbir dve matrice je matrica C: \n",
      " [[ 2  5  2]\n",
      " [ 0  9 12]\n",
      " [-1  1  8]]\n"
     ]
    }
   ],
   "source": [
    "import numpy as np\n",
    "A = np.array([[1, 3, 1], [1, 5, 4], [1, 2, 4]])\n",
    "B = np.array([[1, 2, 1], [-1, 4, 8], [-2, -1, 4]])\n",
    "C = A + B      # pri sabiranju matrica se koristi plus\n",
    "print('Zbir dve matrice je matrica C: \\n',C)"
   ]
  },
  {
   "cell_type": "markdown",
   "id": "c17e0475",
   "metadata": {},
   "source": [
    "### Mnozenje matrice skalarom"
   ]
  },
  {
   "cell_type": "code",
   "execution_count": 15,
   "id": "e1417d8f",
   "metadata": {},
   "outputs": [
    {
     "name": "stdout",
     "output_type": "stream",
     "text": [
      "Matrica pomnozena skalarom je matrica D: \n",
      " [[ 2  6  2]\n",
      " [ 2 10  8]\n",
      " [ 2  4  8]]\n"
     ]
    }
   ],
   "source": [
    "D = 2*A\n",
    "print('Matrica pomnozena skalarom je matrica D: \\n',D)"
   ]
  },
  {
   "cell_type": "markdown",
   "id": "81609c43",
   "metadata": {},
   "source": [
    "### Množenje matrica"
   ]
  },
  {
   "cell_type": "code",
   "execution_count": 16,
   "id": "65e3fe80",
   "metadata": {},
   "outputs": [
    {
     "name": "stdout",
     "output_type": "stream",
     "text": [
      "Proizvod dve matrice je matrica F: \n",
      " [[ -4  13]\n",
      " [-12  18]\n",
      " [ -9   6]]\n"
     ]
    }
   ],
   "source": [
    "import numpy as np\n",
    "A = np.array([[1, 3, 1], [1, 5, 4], [1, 2, 4]])\n",
    "B = np.array([[1, 2], [-1, 4], [-2, -1]])\n",
    "F = A.dot(B) # mnozenje matrica sa naredbom dot \n",
    "print('Proizvod dve matrice je matrica F: \\n',F)"
   ]
  },
  {
   "cell_type": "markdown",
   "id": "3bb813fb",
   "metadata": {},
   "source": [
    "## Kod generisan od strane ChaGpt za resavanje sistema linearnih jednacina matricnom metodom, koriscenjem biblioteke Numpy"
   ]
  },
  {
   "cell_type": "code",
   "execution_count": 17,
   "id": "3991c09c",
   "metadata": {},
   "outputs": [
    {
     "name": "stdout",
     "output_type": "stream",
     "text": [
      "x = 0.0\n",
      "y = 3.0\n",
      "z = -2.0\n"
     ]
    }
   ],
   "source": [
    "import numpy as np\n",
    "\n",
    "# Define the coefficient matrix and the constant matrix\n",
    "A = np.array([[1, 2, 2],\n",
    "              [1, -2, -3],\n",
    "              [1, -1, -2]])\n",
    "b = np.array([2, 0, 1])\n",
    "\n",
    "# Find the inverse of A\n",
    "A_inv = np.linalg.inv(A)\n",
    "\n",
    "# Find the solution vector\n",
    "x = np.dot(A_inv, b)\n",
    "\n",
    "# Print the solution vector\n",
    "print(f\"x = {x[0]}\")\n",
    "print(f\"y = {x[1]}\")\n",
    "print(f\"z = {x[2]}\")"
   ]
  }
 ],
 "metadata": {
  "kernelspec": {
   "display_name": "Python 3 (ipykernel)",
   "language": "python",
   "name": "python3"
  },
  "language_info": {
   "codemirror_mode": {
    "name": "ipython",
    "version": 3
   },
   "file_extension": ".py",
   "mimetype": "text/x-python",
   "name": "python",
   "nbconvert_exporter": "python",
   "pygments_lexer": "ipython3",
   "version": "3.7.4"
  }
 },
 "nbformat": 4,
 "nbformat_minor": 5
}
